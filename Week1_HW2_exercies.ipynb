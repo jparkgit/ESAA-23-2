{
  "nbformat": 4,
  "nbformat_minor": 5,
  "metadata": {
    "colab": {
      "provenance": [],
      "collapsed_sections": [
        "51898680"
      ]
    },
    "language_info": {
      "name": "python"
    },
    "kernelspec": {
      "name": "python3",
      "display_name": "Python 3"
    }
  },
  "cells": [
    {
      "cell_type": "code",
      "source": [
        "import numpy as np"
      ],
      "metadata": {
        "id": "UbRzjctcco1z"
      },
      "id": "UbRzjctcco1z",
      "execution_count": null,
      "outputs": []
    },
    {
      "cell_type": "markdown",
      "source": [
        "# 2. Numpy exercises (26-39)"
      ],
      "metadata": {
        "id": "v3zg95sGWEn0"
      },
      "id": "v3zg95sGWEn0"
    },
    {
      "cell_type": "markdown",
      "metadata": {
        "id": "f1ae2c2d"
      },
      "source": [
        "#### 26. How to find common values between two arrays? (★☆☆)\n",
        "```python\n",
        "Z1 = np.random.randint(0,10,10)\n",
        "Z2 = np.random.randint(0,10,10)\n",
        "```\n",
        "Hint : use `numpy.random.randint(start, end, size)`"
      ],
      "id": "f1ae2c2d"
    },
    {
      "cell_type": "code",
      "metadata": {
        "id": "6801c73d",
        "colab": {
          "base_uri": "https://localhost:8080/"
        },
        "outputId": "23092300-c0e6-4be7-ba5e-71c5b8220673"
      },
      "source": [
        "Z1 = np.random.randint(0,10,10)\n",
        "Z2 = np.random.randint(0,10,10)\n",
        "z3= np.intersect1d(Z1,Z2)\n",
        "print(z3)"
      ],
      "execution_count": null,
      "outputs": [
        {
          "output_type": "stream",
          "name": "stdout",
          "text": [
            "[1 4 7 8]\n"
          ]
        }
      ],
      "id": "6801c73d"
    },
    {
      "cell_type": "markdown",
      "metadata": {
        "id": "37bc0973"
      },
      "source": [
        "#### 27. Is the following expressions true? (★☆☆)\n",
        "```python\n",
        "np.sqrt(-1) == np.emath.sqrt(-1)\n",
        "```"
      ],
      "id": "37bc0973"
    },
    {
      "cell_type": "code",
      "metadata": {
        "id": "c70cbabe",
        "colab": {
          "base_uri": "https://localhost:8080/"
        },
        "outputId": "65e6cdcc-a687-4344-ec1b-52734da358da"
      },
      "source": [
        "np.sqrt(-1) == np.emath.sqrt(-1)"
      ],
      "execution_count": null,
      "outputs": [
        {
          "output_type": "stream",
          "name": "stderr",
          "text": [
            "<ipython-input-19-16339fbc685e>:1: RuntimeWarning: invalid value encountered in sqrt\n",
            "  np.sqrt(-1) == np.emath.sqrt(-1)\n"
          ]
        },
        {
          "output_type": "execute_result",
          "data": {
            "text/plain": [
              "False"
            ]
          },
          "metadata": {},
          "execution_count": 19
        }
      ],
      "id": "c70cbabe"
    },
    {
      "cell_type": "markdown",
      "source": [
        "False.\n",
        "\n",
        "```np.lib.scimath.sqrt(-1)```\n",
        "\n",
        "1j"
      ],
      "metadata": {
        "id": "uFZqYO0BxrKi"
      },
      "id": "uFZqYO0BxrKi"
    },
    {
      "cell_type": "markdown",
      "metadata": {
        "id": "42f8b2f9"
      },
      "source": [
        "#### 28. How to get all the dates corresponding to the month of July 2016? (★★☆)\n",
        "Hint : modify the code below\n",
        "```python\n",
        "Z = np.arange('start', 'end', dtype='datetime64[D]')\n",
        "```"
      ],
      "id": "42f8b2f9"
    },
    {
      "cell_type": "code",
      "source": [
        "Z = np.arange('2016-07','2016-08',\n",
        "              dtype='datetime64[D]')\n",
        "Z"
      ],
      "metadata": {
        "id": "3kkl01x3x0NF",
        "colab": {
          "base_uri": "https://localhost:8080/"
        },
        "outputId": "2de06a35-0b7c-4e61-b02b-cad52ac1d7ea"
      },
      "execution_count": null,
      "outputs": [
        {
          "output_type": "execute_result",
          "data": {
            "text/plain": [
              "array(['2016-07-01', '2016-07-02', '2016-07-03', '2016-07-04',\n",
              "       '2016-07-05', '2016-07-06', '2016-07-07', '2016-07-08',\n",
              "       '2016-07-09', '2016-07-10', '2016-07-11', '2016-07-12',\n",
              "       '2016-07-13', '2016-07-14', '2016-07-15', '2016-07-16',\n",
              "       '2016-07-17', '2016-07-18', '2016-07-19', '2016-07-20',\n",
              "       '2016-07-21', '2016-07-22', '2016-07-23', '2016-07-24',\n",
              "       '2016-07-25', '2016-07-26', '2016-07-27', '2016-07-28',\n",
              "       '2016-07-29', '2016-07-30', '2016-07-31'], dtype='datetime64[D]')"
            ]
          },
          "metadata": {},
          "execution_count": 25
        }
      ],
      "id": "3kkl01x3x0NF"
    },
    {
      "cell_type": "markdown",
      "metadata": {
        "id": "252c43e2"
      },
      "source": [
        "#### 29. How to compute ((A+B)*(-A/2)) in place (without copy)? (★★☆)\n",
        "Hint : use `numpy.add`, `numpy.divide`,`numpy.negative`, `numpy.multiply` and parameter `out` of the funtions"
      ],
      "id": "252c43e2"
    },
    {
      "cell_type": "code",
      "metadata": {
        "id": "f06ff615",
        "colab": {
          "base_uri": "https://localhost:8080/"
        },
        "outputId": "c2571791-7765-42fe-ab54-6916a3144411"
      },
      "source": [
        "A = np.ones(3)*1\n",
        "B = np.ones(3)*2\n",
        "((A+B)*(-A/2))"
      ],
      "execution_count": null,
      "outputs": [
        {
          "output_type": "execute_result",
          "data": {
            "text/plain": [
              "array([-1.5, -1.5, -1.5])"
            ]
          },
          "metadata": {},
          "execution_count": 21
        }
      ],
      "id": "f06ff615"
    },
    {
      "cell_type": "code",
      "source": [
        "A = np.ones(3)*1\n",
        "B = np.ones(3)*2\n",
        "Answer = np.ones(3)\n",
        "np.add(A,B,out=B)\n",
        "np.divide(A,2,out=A)\n",
        "np.negative(A,out=A)\n",
        "np.multiply(A,B,out=Answer)\n",
        "# (1+2)*(-0.5) = -1.5\n",
        "Answer"
      ],
      "metadata": {
        "colab": {
          "base_uri": "https://localhost:8080/"
        },
        "id": "lUnL00QSVAeU",
        "outputId": "d894f55e-2500-41e8-8fe2-cc21e12ecaea"
      },
      "execution_count": null,
      "outputs": [
        {
          "output_type": "execute_result",
          "data": {
            "text/plain": [
              "array([-1.5, -1.5, -1.5])"
            ]
          },
          "metadata": {},
          "execution_count": 20
        }
      ],
      "id": "lUnL00QSVAeU"
    },
    {
      "cell_type": "markdown",
      "metadata": {
        "id": "486df8ea"
      },
      "source": [
        "#### 30. Extract the integer part of a random array of positive numbers using 2 different methods (★★☆)\n",
        "Hint : `%`, `//`"
      ],
      "id": "486df8ea"
    },
    {
      "cell_type": "code",
      "metadata": {
        "id": "34b4fa08",
        "colab": {
          "base_uri": "https://localhost:8080/"
        },
        "outputId": "aea24b7d-0e19-4864-81ae-d4a798cff48a"
      },
      "source": [
        "A=np.random.random(10)*10//1\n",
        "A"
      ],
      "execution_count": null,
      "outputs": [
        {
          "output_type": "execute_result",
          "data": {
            "text/plain": [
              "array([8., 6., 5., 1., 5., 9., 9., 0., 2., 0.])"
            ]
          },
          "metadata": {},
          "execution_count": 30
        }
      ],
      "id": "34b4fa08"
    },
    {
      "cell_type": "code",
      "source": [
        "B = np.random.random(10)*10\n",
        "B = B - B%1\n",
        "B"
      ],
      "metadata": {
        "colab": {
          "base_uri": "https://localhost:8080/"
        },
        "id": "x3g6IC5ddeG_",
        "outputId": "9aa792b2-7cfc-4fef-b2a9-570d4b155c10"
      },
      "execution_count": null,
      "outputs": [
        {
          "output_type": "execute_result",
          "data": {
            "text/plain": [
              "array([3., 5., 1., 4., 4., 2., 7., 4., 9., 0.])"
            ]
          },
          "metadata": {},
          "execution_count": 31
        }
      ],
      "id": "x3g6IC5ddeG_"
    },
    {
      "cell_type": "markdown",
      "metadata": {
        "id": "649e89f9"
      },
      "source": [
        "#### 31. Create a 5x5 matrix with row values ranging from 0 to 4 (★★☆)"
      ],
      "id": "649e89f9"
    },
    {
      "cell_type": "code",
      "source": [
        "Z = np.random.randint(0,4,25).reshape(5,5)\n",
        "print(Z)"
      ],
      "metadata": {
        "colab": {
          "base_uri": "https://localhost:8080/"
        },
        "id": "mqbNVnBUe-eX",
        "outputId": "8df7aa46-3bdc-404e-d773-256b9a4d5b4b"
      },
      "execution_count": null,
      "outputs": [
        {
          "output_type": "stream",
          "name": "stdout",
          "text": [
            "[[2 1 2 3 0]\n",
            " [1 3 1 1 3]\n",
            " [0 2 0 1 1]\n",
            " [2 2 1 1 1]\n",
            " [0 1 3 1 0]]\n"
          ]
        }
      ],
      "id": "mqbNVnBUe-eX"
    },
    {
      "cell_type": "markdown",
      "metadata": {
        "id": "2d07be1c"
      },
      "source": [
        "#### 32. Create a random vector of size 10 and sort it (★★☆)"
      ],
      "id": "2d07be1c"
    },
    {
      "cell_type": "code",
      "metadata": {
        "id": "4f7cb3ad",
        "colab": {
          "base_uri": "https://localhost:8080/"
        },
        "outputId": "9652d595-a710-473a-a414-dfa28127723f"
      },
      "source": [
        "a=np.random.randint(1,10,10)\n",
        "print(a)\n",
        "b=np.sort(a)\n",
        "print(b)"
      ],
      "execution_count": null,
      "outputs": [
        {
          "output_type": "stream",
          "name": "stdout",
          "text": [
            "[8 2 7 6 2 2 5 1 8 9]\n",
            "[1 2 2 2 5 6 7 8 8 9]\n"
          ]
        }
      ],
      "id": "4f7cb3ad"
    },
    {
      "cell_type": "markdown",
      "metadata": {
        "id": "fe043549"
      },
      "source": [
        "#### 33. Consider two random array A and B, check if they are equal (★★☆)\n",
        "```python\n",
        "A = np.random.randint(0,2,5)\n",
        "B = np.random.randint(0,2,5)\n",
        "```\n",
        "Hint : Use `numpy.array_equal()`"
      ],
      "id": "fe043549"
    },
    {
      "cell_type": "code",
      "metadata": {
        "id": "3326a686",
        "colab": {
          "base_uri": "https://localhost:8080/"
        },
        "outputId": "c0960cbd-5643-4ab4-db0d-f8e63878f051"
      },
      "source": [
        "A = np.random.randint(0,2,5)\n",
        "B = np.random.randint(0,2,5)\n",
        "np.array_equal(A,B)"
      ],
      "execution_count": null,
      "outputs": [
        {
          "output_type": "execute_result",
          "data": {
            "text/plain": [
              "False"
            ]
          },
          "metadata": {},
          "execution_count": 45
        }
      ],
      "id": "3326a686"
    },
    {
      "cell_type": "markdown",
      "metadata": {
        "id": "2002cb03"
      },
      "source": [
        "#### 34. Consider a random 10x2 matrix representing cartesian coordinates, convert them to polar coordinates (★★☆)\n",
        "Hint 1 : Note that cartesian coodinate **(x, y)** can be represented as  polar coordinates **(distance from origin to (x,y), angle from the x-axis)**\n",
        "\n",
        "Hint 2 : Use `numpy.sqrt` and `numpy.arctan2`"
      ],
      "id": "2002cb03"
    },
    {
      "cell_type": "code",
      "metadata": {
        "id": "58be72bc",
        "colab": {
          "base_uri": "https://localhost:8080/"
        },
        "outputId": "f727a1fa-0c7a-4cf9-987f-42c7e4f207ca"
      },
      "source": [
        "A=np.random.random((10,2))\n",
        "print(A)\n",
        "X,Y = A[:,0], A[:,1]\n",
        "R = np.sqrt(X**2+Y**2)\n",
        "T = np.arctan2(Y,X)\n",
        "print(R)\n",
        "print(T)\n",
        "array = np.array(R)\n",
        "R = array.reshape(10,1)\n",
        "array1 = np.array(T)\n",
        "T = array1.reshape(10,1)\n",
        "arr = np.concatenate([R, T], axis=1)\n",
        "arr"
      ],
      "execution_count": null,
      "outputs": [
        {
          "output_type": "stream",
          "name": "stdout",
          "text": [
            "[[0.1193748  0.44068576]\n",
            " [0.98634272 0.97921316]\n",
            " [0.94231299 0.88708653]\n",
            " [0.72228618 0.85806944]\n",
            " [0.14276136 0.27549284]\n",
            " [0.27566708 0.45828904]\n",
            " [0.10695109 0.57428393]\n",
            " [0.63231057 0.58873735]\n",
            " [0.52724151 0.1618516 ]\n",
            " [0.40617959 0.2438877 ]]\n",
            "[0.45656793 1.38986704 1.29417011 1.12159729 0.31028553 0.53480949\n",
            " 0.584158   0.86396084 0.55152475 0.47377534]\n",
            "[1.30626057 0.78177093 0.75521903 0.8711071  1.09269219 1.02926464\n",
            " 1.38667184 0.74972819 0.29784636 0.54074518]\n"
          ]
        },
        {
          "output_type": "execute_result",
          "data": {
            "text/plain": [
              "array([[0.45656793, 1.30626057],\n",
              "       [1.38986704, 0.78177093],\n",
              "       [1.29417011, 0.75521903],\n",
              "       [1.12159729, 0.8711071 ],\n",
              "       [0.31028553, 1.09269219],\n",
              "       [0.53480949, 1.02926464],\n",
              "       [0.584158  , 1.38667184],\n",
              "       [0.86396084, 0.74972819],\n",
              "       [0.55152475, 0.29784636],\n",
              "       [0.47377534, 0.54074518]])"
            ]
          },
          "metadata": {},
          "execution_count": 65
        }
      ],
      "id": "58be72bc"
    },
    {
      "cell_type": "markdown",
      "metadata": {
        "id": "b7109c9f"
      },
      "source": [
        "#### 35. Create random vector Z of size 10 and replace the maximum value by 0 (★★☆)\n",
        "Hint : We can see the index of maximum value using `Z.argmax()`"
      ],
      "id": "b7109c9f"
    },
    {
      "cell_type": "code",
      "metadata": {
        "id": "f79e79a7",
        "colab": {
          "base_uri": "https://localhost:8080/"
        },
        "outputId": "4ef13097-270b-4167-f811-9ae971253fd0"
      },
      "source": [
        "z = np.random.random(10)\n",
        "print(max(z))\n",
        "z[z.argmax()] = 0\n",
        "print(max(z))"
      ],
      "execution_count": null,
      "outputs": [
        {
          "output_type": "stream",
          "name": "stdout",
          "text": [
            "0.8243994139235026\n",
            "0.8173232510653419\n"
          ]
        }
      ],
      "id": "f79e79a7"
    },
    {
      "cell_type": "markdown",
      "metadata": {
        "id": "e6e1ae2f"
      },
      "source": [
        "#### 36. How to find the closest value (to a given scalar v) in a vector Z? (★★☆)\n",
        "```python\n",
        "Z = np.arange(100)\n",
        "v = np.random.uniform(0,100)\n",
        "```\n",
        "Hint : Coumpute the distances between the each elements of Z and the scalar v. After that, we can see the index of minimum value using `argmin()`.  "
      ],
      "id": "e6e1ae2f"
    },
    {
      "cell_type": "code",
      "source": [
        "Z = np.arange(100)\n",
        "v = np.random.uniform(0,100)\n",
        "x=(Z-v)*(Z-v)\n",
        "x=sqrt(x)\n",
        "print(x.argmin())\n",
        "print(v)\n",
        "Z[x.argmin()]\n"
      ],
      "metadata": {
        "id": "QkQ2Mii77FrE",
        "colab": {
          "base_uri": "https://localhost:8080/"
        },
        "outputId": "de5f8058-7e74-4a07-ed38-7e9cefa98eb9"
      },
      "execution_count": null,
      "outputs": [
        {
          "output_type": "stream",
          "name": "stdout",
          "text": [
            "78\n",
            "77.62374712761687\n"
          ]
        },
        {
          "output_type": "execute_result",
          "data": {
            "text/plain": [
              "78"
            ]
          },
          "metadata": {},
          "execution_count": 75
        }
      ],
      "id": "QkQ2Mii77FrE"
    },
    {
      "cell_type": "markdown",
      "metadata": {
        "id": "f98713a6"
      },
      "source": [
        "#### 37. What is the equivalent of enumerate for numpy arrays? (★★☆)\n",
        "Hint : Use `numpy.ndenumerate()`or `numpy.ndindex()`\n",
        "\n",
        "Example of the output :\n",
        "```python\n",
        "Z = np.arange(9).reshape(3,3)\n",
        "```\n",
        "```python\n",
        "# output\n",
        "(0, 0) 0\n",
        "(0, 1) 1\n",
        "(0, 2) 2\n",
        "(1, 0) 3\n",
        "(1, 1) 4\n",
        "(1, 2) 5\n",
        "(2, 0) 6\n",
        "(2, 1) 7\n",
        "(2, 2) 8\n",
        "```"
      ],
      "id": "f98713a6"
    },
    {
      "cell_type": "code",
      "metadata": {
        "id": "64795f84",
        "colab": {
          "base_uri": "https://localhost:8080/"
        },
        "outputId": "79d62437-6aca-4c2b-d921-8ec04269e34c"
      },
      "source": [
        "a = np.arange(9).reshape(3,3)\n",
        "for index, x in np.ndenumerate(a):\n",
        "  print(index, x)"
      ],
      "execution_count": null,
      "outputs": [
        {
          "output_type": "stream",
          "name": "stdout",
          "text": [
            "(0, 0) 0\n",
            "(0, 1) 1\n",
            "(0, 2) 2\n",
            "(1, 0) 3\n",
            "(1, 1) 4\n",
            "(1, 2) 5\n",
            "(2, 0) 6\n",
            "(2, 1) 7\n",
            "(2, 2) 8\n"
          ]
        }
      ],
      "id": "64795f84"
    },
    {
      "cell_type": "markdown",
      "metadata": {
        "id": "0cf413ee"
      },
      "source": [
        "#### 38. How to randomly place p elements in a 2D array? (★★☆)\n",
        "Hint : modify the code below\n",
        "```python\n",
        "n = 'size of a 2D array'\n",
        "p = 'the number of elements that you want to place'\n",
        "Z = np.zeros((n,n))\n",
        "np.put(Z, np.random.choice(range(n*n), p, replace = False),'value that you want to place')\n",
        "print(Z)\n",
        "```"
      ],
      "id": "0cf413ee"
    },
    {
      "cell_type": "code",
      "metadata": {
        "id": "dfc57e06",
        "colab": {
          "base_uri": "https://localhost:8080/"
        },
        "outputId": "ca82f295-817c-4176-9b68-91270f2d8412"
      },
      "source": [
        "n = 3\n",
        "p = 2\n",
        "Z = np.zeros((n,n))\n",
        "np.put(Z, np.random.choice(range(n*n), p, replace = False),4)\n",
        "print(Z)"
      ],
      "execution_count": null,
      "outputs": [
        {
          "output_type": "stream",
          "name": "stdout",
          "text": [
            "[[0. 4. 0.]\n",
            " [0. 0. 4.]\n",
            " [0. 0. 0.]]\n"
          ]
        }
      ],
      "id": "dfc57e06"
    },
    {
      "cell_type": "markdown",
      "metadata": {
        "id": "c0cf37e0"
      },
      "source": [
        "#### 39. How to sort an array below by the nth column? (★★☆)\n",
        "```python\n",
        "Z = np.random.randint(0,10,(3,3))\n",
        "```"
      ],
      "id": "c0cf37e0"
    },
    {
      "cell_type": "code",
      "metadata": {
        "id": "9336ca5f",
        "colab": {
          "base_uri": "https://localhost:8080/"
        },
        "outputId": "5a7eebf1-2c42-4c49-d109-b058887fe2d9"
      },
      "source": [
        "# column 1\n",
        "Z = np.random.randint(0,10,(3,3))\n",
        "print(Z)\n",
        "print(Z[Z[:, 0].argsort()])"
      ],
      "execution_count": null,
      "outputs": [
        {
          "output_type": "stream",
          "name": "stdout",
          "text": [
            "[[8 1 1]\n",
            " [1 8 3]\n",
            " [2 8 7]]\n",
            "[[1 8 3]\n",
            " [2 8 7]\n",
            " [8 1 1]]\n"
          ]
        }
      ],
      "id": "9336ca5f"
    },
    {
      "cell_type": "code",
      "source": [
        "# column 2\n",
        "print(Z)\n",
        "print(Z[Z[:, 1].argsort()])"
      ],
      "metadata": {
        "id": "0hZzZ6tn2K6V",
        "colab": {
          "base_uri": "https://localhost:8080/"
        },
        "outputId": "ae246694-2b2a-46d1-80c0-d73645df3913"
      },
      "execution_count": null,
      "outputs": [
        {
          "output_type": "stream",
          "name": "stdout",
          "text": [
            "[[8 1 1]\n",
            " [1 8 3]\n",
            " [2 8 7]]\n",
            "[[8 1 1]\n",
            " [1 8 3]\n",
            " [2 8 7]]\n"
          ]
        }
      ],
      "id": "0hZzZ6tn2K6V"
    },
    {
      "cell_type": "code",
      "source": [
        "# column 3\n",
        "print(Z)\n",
        "print(Z[Z[:, 2].argsort()])"
      ],
      "metadata": {
        "id": "z4zqQXvt2NaB",
        "colab": {
          "base_uri": "https://localhost:8080/"
        },
        "outputId": "447c2f95-9d21-4bb1-9424-7d125e0fcb9f"
      },
      "execution_count": null,
      "outputs": [
        {
          "output_type": "stream",
          "name": "stdout",
          "text": [
            "[[8 1 1]\n",
            " [1 8 3]\n",
            " [2 8 7]]\n",
            "[[8 1 1]\n",
            " [1 8 3]\n",
            " [2 8 7]]\n"
          ]
        }
      ],
      "id": "z4zqQXvt2NaB"
    }
  ]
}