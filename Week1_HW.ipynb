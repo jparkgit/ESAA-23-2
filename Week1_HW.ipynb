{
  "nbformat": 4,
  "nbformat_minor": 0,
  "metadata": {
    "colab": {
      "provenance": []
    },
    "kernelspec": {
      "name": "python3",
      "display_name": "Python 3"
    },
    "language_info": {
      "name": "python"
    }
  },
  "cells": [
    {
      "cell_type": "markdown",
      "source": [
        "https://cafe.naver.com/esaa2019?iframe_url_utf8=%2FArticleRead.nhn%253Fclubid%3D29858915%2526page%3D1%2526menuid%3D80%2526boardtype%3DL%2526articleid%3D2286%2526referrerAllArticles%3Dfalse\n",
        "\n",
        "기한 : 9월 8일 (금) 18시 30분\n",
        "\n",
        "과제 : 파이썬 머신러닝 완벽 가이드 p. 1 ~ 38 필사하여 깃허브에 업로드한 뒤, 깃허브 링크를 댓글로 달아주세요.\n",
        "\n",
        "- 책 p. 7 ~ 12 부분은 생략하시고, 구글 코랩으로 사용하셔도 됩니다.\n",
        "\n",
        "- 개념 내용 필사(마크다운)하실 때, 1. 머신러닝의 개념, 2. 파이썬 머신러닝 생태계를 구성하는 주요 패키지 단원은 제외하셔도 됩니다."
      ],
      "metadata": {
        "id": "OkNdUs7vkugB"
      }
    },
    {
      "cell_type": "markdown",
      "source": [
        "# 03 Numpy"
      ],
      "metadata": {
        "id": "37zjevjBlEhA"
      }
    },
    {
      "cell_type": "markdown",
      "source": [
        "## 3.1 넘파이 ndarray 개요: shape, ndim\n",
        "\n",
        "\n",
        "*  ndarray: numpy의 기반 데이터 타입. 이를 이용해 넘파이에서 다차원 배열을 쉽게 생성, 다양한 연산 수행 가능\n",
        "*   numpy `array()` 함수: 리스트와 같은 다양한 인자를 입력 받아 ndarray로 변환\n",
        "*   shape 변수: ndarray의 차원과 크기를 튜플 형태로 나타내줌"
      ],
      "metadata": {
        "id": "fPzqr-gblnpM"
      }
    },
    {
      "cell_type": "code",
      "source": [
        "import numpy as np"
      ],
      "metadata": {
        "id": "SWHKoE3fk2Ud"
      },
      "execution_count": 2,
      "outputs": []
    },
    {
      "cell_type": "code",
      "source": [
        "array1 = np.array([1,2,3])\n",
        "print(array1)\n",
        "print(type(array1))\n",
        "print(array1.shape)\n",
        "print(array1.ndim)"
      ],
      "metadata": {
        "colab": {
          "base_uri": "https://localhost:8080/"
        },
        "id": "UEv0D5AtMtu5",
        "outputId": "7499ce13-f636-4a8d-ccaf-bbc7fc4ba116"
      },
      "execution_count": 8,
      "outputs": [
        {
          "output_type": "stream",
          "name": "stdout",
          "text": [
            "[1 2 3]\n",
            "<class 'numpy.ndarray'>\n",
            "(3,)\n",
            "1\n"
          ]
        }
      ]
    },
    {
      "cell_type": "code",
      "source": [
        "array2 = np.array([[1,2,3],\n",
        "                   [2,3,4]])\n",
        "print(array2)\n",
        "print(type(array2))\n",
        "print(array2.shape)\n",
        "print(array2.ndim)"
      ],
      "metadata": {
        "colab": {
          "base_uri": "https://localhost:8080/"
        },
        "id": "aa6t6z3aM7ml",
        "outputId": "bccf3f97-4267-43c9-83f4-183d587016e7"
      },
      "execution_count": 9,
      "outputs": [
        {
          "output_type": "stream",
          "name": "stdout",
          "text": [
            "[[1 2 3]\n",
            " [2 3 4]]\n",
            "<class 'numpy.ndarray'>\n",
            "(2, 3)\n",
            "2\n"
          ]
        }
      ]
    },
    {
      "cell_type": "code",
      "source": [
        "array3 = np.array([[1,2,3]])\n",
        "# note that this is a matrix (2dim) while array1 is a vector(1dim, list)\n",
        "print(array3)\n",
        "print(type(array3))\n",
        "print(array3.shape)\n",
        "print(array3.ndim)"
      ],
      "metadata": {
        "colab": {
          "base_uri": "https://localhost:8080/"
        },
        "id": "LomwMSBYX76M",
        "outputId": "57f7e1b9-f0eb-4d59-b3d3-206b226088c8"
      },
      "execution_count": 10,
      "outputs": [
        {
          "output_type": "stream",
          "name": "stdout",
          "text": [
            "[[1 2 3]]\n",
            "<class 'numpy.ndarray'>\n",
            "(1, 3)\n",
            "2\n"
          ]
        }
      ]
    },
    {
      "cell_type": "markdown",
      "source": [
        "## 3.2 ndarray의 데이터 타입: dtype, astype\n"
      ],
      "metadata": {
        "id": "n0ufdbcNm0dT"
      }
    },
    {
      "cell_type": "markdown",
      "source": [
        "ndarray내의 데이터 타입은 숫자, 문자열, 불 모두 가능\n",
        "\n",
        "숫자형:\n",
        "* int형 (8, 16, 32 bit)\n",
        "* unsigned int형 (8, 16, 32 bit)\n",
        "* float형 (8, 16, 32, 64, 128 bit)\n",
        "\n",
        "여러 데이터 타입이 섞여 있을 경우 그 중 큰 데이터 타입으로 변환,통일된다.\\\n",
        "데이터 타입 변경은 astype()로 할 수 있다. 보통 데이터 타입 변경은 메모리를 더 절약할 때 이용됨.\\\n",
        " (i.e. int형으로 충분한 경우인데 float로 되어있을 때는 int형으로 바꿔서 메모리 절약)"
      ],
      "metadata": {
        "id": "g5IIX3q9Yj4Z"
      }
    },
    {
      "cell_type": "code",
      "source": [
        "list1 = [1,2,3]\n",
        "list2 = [1,2,'three']\n",
        "list3 = [1,2,3.0]"
      ],
      "metadata": {
        "id": "2cskNA6QlQlZ"
      },
      "execution_count": 11,
      "outputs": []
    },
    {
      "cell_type": "code",
      "source": [
        "array1 = np.array(list1)\n",
        "array2 = np.array(list2)\n",
        "array3 = np.array(list3)\n",
        "print(array1, array1.dtype)\n",
        "print(array2, array2.dtype)\n",
        "print(array3, array3.dtype)"
      ],
      "metadata": {
        "colab": {
          "base_uri": "https://localhost:8080/"
        },
        "id": "xxN_6mLaYfKj",
        "outputId": "4085d230-f78c-4ded-f2c9-06980f62ea54"
      },
      "execution_count": 12,
      "outputs": [
        {
          "output_type": "stream",
          "name": "stdout",
          "text": [
            "[1 2 3] int64\n",
            "['1' '2' 'three'] <U21\n",
            "[1. 2. 3.] float64\n"
          ]
        }
      ]
    },
    {
      "cell_type": "code",
      "source": [
        "array4 = np.array([1.24, 2.33, 3.56])\n",
        "print(array4, array4.dtype)"
      ],
      "metadata": {
        "colab": {
          "base_uri": "https://localhost:8080/"
        },
        "id": "OTNG9VTkaj17",
        "outputId": "ae1a16fc-d7e8-4740-b6b0-189bd029f23b"
      },
      "execution_count": 13,
      "outputs": [
        {
          "output_type": "stream",
          "name": "stdout",
          "text": [
            "[1.24 2.33 3.56] float64\n"
          ]
        }
      ]
    },
    {
      "cell_type": "code",
      "source": [
        "array4_asint = array4.astype('int16')\n",
        "print(array4_asint, array4_asint.dtype) # autocorrected into int"
      ],
      "metadata": {
        "colab": {
          "base_uri": "https://localhost:8080/"
        },
        "id": "djTPED1ma3a_",
        "outputId": "287e47eb-5b57-411b-c765-b39d12b5764b"
      },
      "execution_count": 16,
      "outputs": [
        {
          "output_type": "stream",
          "name": "stdout",
          "text": [
            "[1 2 3] int16\n"
          ]
        }
      ]
    },
    {
      "cell_type": "markdown",
      "source": [],
      "metadata": {
        "id": "Ush2Z3nHa3PK"
      }
    },
    {
      "cell_type": "markdown",
      "source": [
        "## 3.3 ndarray를 편리하게 생성하기 - arange, zeros, ones\n",
        "\n",
        "\n",
        "*   arange(stop) - array를 range()로 표현: 0부터 (stop값-1)까지의 값을 순차적으로 ndarray의 데이터값으로 변환\n",
        "*   zeros(shape) - 튜플형태의 shape값을 입력하면 해당 shape를 가진, 모든 값을 0으로 채운 ndarray를 반환 (함수 인자로 dtype를 따로 정해주지 않으면 default로 float64형의 데이터)\n",
        "*\n",
        "\n"
      ],
      "metadata": {
        "id": "UwCI5As_m_lQ"
      }
    },
    {
      "cell_type": "code",
      "source": [
        "arange_array = np.arange(11)\n",
        "print(arange_array)"
      ],
      "metadata": {
        "colab": {
          "base_uri": "https://localhost:8080/"
        },
        "id": "PH9ptg5pJq22",
        "outputId": "bfe9137f-2907-44a6-eaf9-a4de75da7d43"
      },
      "execution_count": 2,
      "outputs": [
        {
          "output_type": "stream",
          "name": "stdout",
          "text": [
            "[ 0  1  2  3  4  5  6  7  8  9 10]\n"
          ]
        }
      ]
    },
    {
      "cell_type": "code",
      "source": [
        "zero_array = np.zeros((3,2))\n",
        "print(zero_array, zero_array.dtype)\n",
        "\n",
        "zero_array = np.zeros((3,2), dtype='int32')\n",
        "print(zero_array, zero_array.dtype)"
      ],
      "metadata": {
        "colab": {
          "base_uri": "https://localhost:8080/"
        },
        "id": "XTg0jei0KfiZ",
        "outputId": "3504eea2-e1aa-4817-ebb7-5f66afbeba24"
      },
      "execution_count": 4,
      "outputs": [
        {
          "output_type": "stream",
          "name": "stdout",
          "text": [
            "[[0. 0.]\n",
            " [0. 0.]\n",
            " [0. 0.]] float64\n",
            "[[0 0]\n",
            " [0 0]\n",
            " [0 0]] int32\n"
          ]
        }
      ]
    },
    {
      "cell_type": "markdown",
      "source": [
        "## 3.4 ndarray의 차원과 크리를 변경하는 reshape()\n",
        "\n",
        "남은 인자로 -1를 사용하면 알아서 알맞은 shape로 변환해줌\\\n",
        "`tolist()`: ndarray를 리스트 자료형으로 변환 (시각적으로 더 이해하기 쉬울 수 있는 경우)"
      ],
      "metadata": {
        "id": "LwfEaSDBnFQU"
      }
    },
    {
      "cell_type": "code",
      "source": [
        "starting_array = np.arange(10)\n",
        "print(starting_array)"
      ],
      "metadata": {
        "colab": {
          "base_uri": "https://localhost:8080/"
        },
        "id": "iutjnrTFnMFl",
        "outputId": "5ab51794-9c59-4fa6-ad47-d47da2361f25"
      },
      "execution_count": 7,
      "outputs": [
        {
          "output_type": "stream",
          "name": "stdout",
          "text": [
            "[0 1 2 3 4 5 6 7 8 9]\n"
          ]
        }
      ]
    },
    {
      "cell_type": "code",
      "source": [
        "reshape1 = starting_array.reshape(2,5)\n",
        "print(reshape1)\n",
        "reshape2 = starting_array.reshape(5,-1)\n",
        "print(reshape2)"
      ],
      "metadata": {
        "colab": {
          "base_uri": "https://localhost:8080/"
        },
        "id": "ul9JXiHaLFaZ",
        "outputId": "e442710a-ccd7-46d1-9972-31aa66662ace"
      },
      "execution_count": 11,
      "outputs": [
        {
          "output_type": "stream",
          "name": "stdout",
          "text": [
            "[[0 1 2 3 4]\n",
            " [5 6 7 8 9]]\n",
            "[[0 1]\n",
            " [2 3]\n",
            " [4 5]\n",
            " [6 7]\n",
            " [8 9]]\n"
          ]
        }
      ]
    },
    {
      "cell_type": "code",
      "source": [
        "array1 = np.arange(8)\n",
        "array3d = array1.reshape((2,2,2))\n",
        "print(array3d)\n",
        "print(array3d.tolist())"
      ],
      "metadata": {
        "colab": {
          "base_uri": "https://localhost:8080/"
        },
        "id": "iDc3uC9iQo0M",
        "outputId": "2ff78cb9-dc8b-4843-dd5e-b1d2d9f9fd53"
      },
      "execution_count": 14,
      "outputs": [
        {
          "output_type": "stream",
          "name": "stdout",
          "text": [
            "[[[0 1]\n",
            "  [2 3]]\n",
            "\n",
            " [[4 5]\n",
            "  [6 7]]]\n",
            "[[[0, 1], [2, 3]], [[4, 5], [6, 7]]]\n"
          ]
        }
      ]
    },
    {
      "cell_type": "code",
      "source": [
        "# 3차원 -> 2차원\n",
        "array2 = array3d.reshape(2,-1)\n",
        "print(array2)"
      ],
      "metadata": {
        "colab": {
          "base_uri": "https://localhost:8080/"
        },
        "id": "JMA6-qtaSNuk",
        "outputId": "dcfada6c-90b8-4371-fa8d-be8dd6716242"
      },
      "execution_count": 17,
      "outputs": [
        {
          "output_type": "stream",
          "name": "stdout",
          "text": [
            "[[0 1 2 3]\n",
            " [4 5 6 7]]\n"
          ]
        }
      ]
    },
    {
      "cell_type": "markdown",
      "source": [
        "## 3.5 numpy의 ndarray의 데이터 세트 선택하기 - indexing\n",
        "\n",
        "\n",
        "1.   단일값 추출\n",
        "2.   슬라이싱\n",
        "3.   Fancy indexing\n",
        "4.   Boolean indexing\n",
        "\n"
      ],
      "metadata": {
        "id": "hKa0B6LZnMZ2"
      }
    },
    {
      "cell_type": "code",
      "source": [
        "array1 = np.arange(1,10)\n",
        "print(array1)"
      ],
      "metadata": {
        "colab": {
          "base_uri": "https://localhost:8080/"
        },
        "id": "M2qUWKy9SoUo",
        "outputId": "d197bbd5-d092-4862-ea66-ca6cf4cfa596"
      },
      "execution_count": 19,
      "outputs": [
        {
          "output_type": "stream",
          "name": "stdout",
          "text": [
            "[1 2 3 4 5 6 7 8 9]\n"
          ]
        }
      ]
    },
    {
      "cell_type": "markdown",
      "source": [
        "### 단일값 추출\n",
        "\n",
        "인덱스는 0부터 시작, -1는 맨 뒤, -2는 맨 뒤에서 두번째"
      ],
      "metadata": {
        "id": "wPMYUjuWnW8-"
      }
    },
    {
      "cell_type": "code",
      "source": [
        "print(array1[2])\n",
        "print(array1[-1])"
      ],
      "metadata": {
        "colab": {
          "base_uri": "https://localhost:8080/"
        },
        "id": "WEl1WUYBSmS5",
        "outputId": "afb5dca3-3bd7-4258-a99f-e3556e277cae"
      },
      "execution_count": 21,
      "outputs": [
        {
          "output_type": "stream",
          "name": "stdout",
          "text": [
            "3\n",
            "9\n"
          ]
        }
      ]
    },
    {
      "cell_type": "code",
      "source": [
        "array1[0] = 99\n",
        "print(array1)"
      ],
      "metadata": {
        "colab": {
          "base_uri": "https://localhost:8080/"
        },
        "id": "bHV8_DWDS2AK",
        "outputId": "86adcd28-3329-49c0-f8fd-9890216d6131"
      },
      "execution_count": 23,
      "outputs": [
        {
          "output_type": "stream",
          "name": "stdout",
          "text": [
            "[99  2  3  4  5  6  7  8  9]\n"
          ]
        }
      ]
    },
    {
      "cell_type": "code",
      "source": [
        "array2 = array1.reshape(3,3)\n",
        "print(array2)\n",
        "print(array2[0,0]) # first row, first column\n",
        "print(array2[-1,0]) # last row, first column\n",
        "print(array2[2,1]) # third row, second column"
      ],
      "metadata": {
        "colab": {
          "base_uri": "https://localhost:8080/"
        },
        "id": "uvAlpE5yUCgG",
        "outputId": "ac483c62-81a1-46ee-f9ca-e46acd6e543e"
      },
      "execution_count": 25,
      "outputs": [
        {
          "output_type": "stream",
          "name": "stdout",
          "text": [
            "[[99  2  3]\n",
            " [ 4  5  6]\n",
            " [ 7  8  9]]\n",
            "99\n",
            "7\n",
            "8\n"
          ]
        }
      ]
    },
    {
      "cell_type": "markdown",
      "source": [
        "### 슬라이싱 ':'"
      ],
      "metadata": {
        "id": "-UpBlkbknZJg"
      }
    },
    {
      "cell_type": "code",
      "source": [
        "array1 = np.arange(1,10)\n",
        "print(array1)\n",
        "print(array1[0:3]) # from 0th to (3-1)th index\n",
        "print(array1[5:]) # from 5th to the end"
      ],
      "metadata": {
        "colab": {
          "base_uri": "https://localhost:8080/"
        },
        "id": "IITksOU1Ulk3",
        "outputId": "257cac0d-d1eb-4d78-9b73-8c590a68770c"
      },
      "execution_count": 28,
      "outputs": [
        {
          "output_type": "stream",
          "name": "stdout",
          "text": [
            "[1 2 3 4 5 6 7 8 9]\n",
            "[1 2 3]\n",
            "[6 7 8 9]\n"
          ]
        }
      ]
    },
    {
      "cell_type": "code",
      "source": [
        "array1d = np.arange(1,26)\n",
        "array2d = array1d.reshape(5,5)\n",
        "print(array2d)"
      ],
      "metadata": {
        "colab": {
          "base_uri": "https://localhost:8080/"
        },
        "id": "7xb50EVVVIgh",
        "outputId": "cf4788d1-1597-49d4-e833-9b1549c93033"
      },
      "execution_count": 29,
      "outputs": [
        {
          "output_type": "stream",
          "name": "stdout",
          "text": [
            "[[ 1  2  3  4  5]\n",
            " [ 6  7  8  9 10]\n",
            " [11 12 13 14 15]\n",
            " [16 17 18 19 20]\n",
            " [21 22 23 24 25]]\n"
          ]
        }
      ]
    },
    {
      "cell_type": "code",
      "source": [
        "print(array2d[0:2, 0:2]) # 0:2 of rows, 0:2 of columns"
      ],
      "metadata": {
        "colab": {
          "base_uri": "https://localhost:8080/"
        },
        "id": "OGdg1cSwVU6V",
        "outputId": "462e7446-bdab-436b-d36a-3f254b641197"
      },
      "execution_count": 30,
      "outputs": [
        {
          "output_type": "stream",
          "name": "stdout",
          "text": [
            "[[1 2]\n",
            " [6 7]]\n"
          ]
        }
      ]
    },
    {
      "cell_type": "code",
      "source": [
        "print(array2d[0:3, 3:4]) # 0:3 of rows, 3:4 of columns -> 3 rows, 1 col"
      ],
      "metadata": {
        "colab": {
          "base_uri": "https://localhost:8080/"
        },
        "id": "i6W-xocIVhEM",
        "outputId": "6f94de31-e79e-427c-b72d-b37a96fe1af2"
      },
      "execution_count": 31,
      "outputs": [
        {
          "output_type": "stream",
          "name": "stdout",
          "text": [
            "[[ 4]\n",
            " [ 9]\n",
            " [14]]\n"
          ]
        }
      ]
    },
    {
      "cell_type": "code",
      "source": [
        "print(array2d[:2, 3:]) # upto row index 2, from col index 3 til the end\n",
        "                       # 2 rows(0,1), 2 cols(3,4)"
      ],
      "metadata": {
        "colab": {
          "base_uri": "https://localhost:8080/"
        },
        "id": "49GryOm5VyU1",
        "outputId": "17248c92-1767-4e9b-ebef-057390b50739"
      },
      "execution_count": 32,
      "outputs": [
        {
          "output_type": "stream",
          "name": "stdout",
          "text": [
            "[[ 4  5]\n",
            " [ 9 10]]\n"
          ]
        }
      ]
    },
    {
      "cell_type": "code",
      "source": [
        "# 2차원에서 뒤에 오는 인덱스를 없애면 1차원, row를 반환\n",
        "print(array2d[0])"
      ],
      "metadata": {
        "colab": {
          "base_uri": "https://localhost:8080/"
        },
        "id": "UO2G4MZBaMsp",
        "outputId": "4429ca78-1af3-471f-df45-1aaae10f32c6"
      },
      "execution_count": 38,
      "outputs": [
        {
          "output_type": "stream",
          "name": "stdout",
          "text": [
            "[1 2 3 4 5]\n",
            "[[[1, 2], [3, 4], [5, 6], [7, 8]], [[9, 10], [11, 12], [13, 14], [15, 16]], [[17, 18], [19, 20], [21, 22], [23, 24]]]\n",
            "[[1 2]\n",
            " [3 4]\n",
            " [5 6]\n",
            " [7 8]]\n"
          ]
        }
      ]
    },
    {
      "cell_type": "code",
      "source": [
        "array1d = np.arange(1,25)\n",
        "array3d = array1d.reshape(3,4,-1)\n",
        "print(array3d.tolist())\n",
        "print(array3d[1])\n",
        "# 3차원에서 뒤에 오는 인덱스를 없애면 2차원 ndarray를 반환"
      ],
      "metadata": {
        "colab": {
          "base_uri": "https://localhost:8080/"
        },
        "id": "leDfQlQ3a3He",
        "outputId": "c9cb3607-e5df-4003-bb34-3071b413ac60"
      },
      "execution_count": 40,
      "outputs": [
        {
          "output_type": "stream",
          "name": "stdout",
          "text": [
            "[[[1, 2], [3, 4], [5, 6], [7, 8]], [[9, 10], [11, 12], [13, 14], [15, 16]], [[17, 18], [19, 20], [21, 22], [23, 24]]]\n",
            "[[ 9 10]\n",
            " [11 12]\n",
            " [13 14]\n",
            " [15 16]]\n"
          ]
        }
      ]
    },
    {
      "cell_type": "markdown",
      "source": [
        "### Fancy Indexing\n",
        "\n",
        "리스트나 ndarray로 인덱스 집합을 지정"
      ],
      "metadata": {
        "id": "fdJ4xKy4ncug"
      }
    },
    {
      "cell_type": "code",
      "source": [
        "print(array2d)"
      ],
      "metadata": {
        "colab": {
          "base_uri": "https://localhost:8080/"
        },
        "id": "2Vm9sDqIbM7V",
        "outputId": "4a2821e8-a325-426d-900e-15b0ed973d5c"
      },
      "execution_count": 44,
      "outputs": [
        {
          "output_type": "stream",
          "name": "stdout",
          "text": [
            "[[ 1  2  3  4  5]\n",
            " [ 6  7  8  9 10]\n",
            " [11 12 13 14 15]\n",
            " [16 17 18 19 20]\n",
            " [21 22 23 24 25]]\n"
          ]
        }
      ]
    },
    {
      "cell_type": "code",
      "source": [
        "print(array2d[[0,1],2]) # row 0,1 and col 2\n",
        "print(array2d[[2,4], 0:2]) # row 2,3 and col 0,1"
      ],
      "metadata": {
        "colab": {
          "base_uri": "https://localhost:8080/"
        },
        "id": "JY2lU9poel0-",
        "outputId": "fdaabfeb-c667-4b12-ae6c-23667f39a35f"
      },
      "execution_count": 45,
      "outputs": [
        {
          "output_type": "stream",
          "name": "stdout",
          "text": [
            "[3 8]\n",
            "[[11 12]\n",
            " [21 22]]\n"
          ]
        }
      ]
    },
    {
      "cell_type": "markdown",
      "source": [
        "### Boolean indexing\n",
        "`ndarray[조건문]`"
      ],
      "metadata": {
        "id": "JXOYlykHnfun"
      }
    },
    {
      "cell_type": "code",
      "source": [
        "array1 = np.arange(1,10)\n",
        "print(array1[array1>5])"
      ],
      "metadata": {
        "colab": {
          "base_uri": "https://localhost:8080/"
        },
        "id": "LMueLh5Jeoji",
        "outputId": "2b36a517-36b8-47ee-fa3c-a2a23db198e8"
      },
      "execution_count": 46,
      "outputs": [
        {
          "output_type": "stream",
          "name": "stdout",
          "text": [
            "[6 7 8 9]\n"
          ]
        }
      ]
    },
    {
      "cell_type": "code",
      "source": [
        "array1>5\n"
      ],
      "metadata": {
        "colab": {
          "base_uri": "https://localhost:8080/"
        },
        "id": "fNv94QYji_1H",
        "outputId": "bef64c62-6e24-4590-8b38-150b276531ba"
      },
      "execution_count": 49,
      "outputs": [
        {
          "output_type": "execute_result",
          "data": {
            "text/plain": [
              "array([False, False, False, False, False,  True,  True,  True,  True])"
            ]
          },
          "metadata": {},
          "execution_count": 49
        }
      ]
    },
    {
      "cell_type": "code",
      "source": [
        "boolean_indexes = np.array([False, False, False, False, False,  True,  True,  True,  True])\n",
        "print(array1[boolean_indexes])"
      ],
      "metadata": {
        "colab": {
          "base_uri": "https://localhost:8080/"
        },
        "id": "8Y7ShEN5jKqi",
        "outputId": "a76375ff-925f-4173-d5eb-b268d99c5077"
      },
      "execution_count": 50,
      "outputs": [
        {
          "output_type": "stream",
          "name": "stdout",
          "text": [
            "[6 7 8 9]\n"
          ]
        }
      ]
    },
    {
      "cell_type": "code",
      "source": [
        "# 지정된 index 값으로 데이터 조회\n",
        "indexes = np.array([0,1,2,3])\n",
        "print(array1[indexes])"
      ],
      "metadata": {
        "colab": {
          "base_uri": "https://localhost:8080/"
        },
        "id": "qVlCpSFtjRYj",
        "outputId": "bca353ac-3aa5-4751-ed29-82ceeaa7da7c"
      },
      "execution_count": 51,
      "outputs": [
        {
          "output_type": "stream",
          "name": "stdout",
          "text": [
            "[1 2 3 4]\n"
          ]
        }
      ]
    },
    {
      "cell_type": "markdown",
      "source": [
        "## 3.6 행렬의 정렬 - sort(), argsort()\n",
        "\n",
        "1.   `np.sort()` : 행렬 정렬\n",
        "2.   `np.argsort(ndarray)` : 정렬된 행렬의 인덱스를 반환하기"
      ],
      "metadata": {
        "id": "hBiM1vgknjYP"
      }
    },
    {
      "cell_type": "markdown",
      "source": [
        "### 행렬 정렬\n",
        "`np.sort()` : 원래 행렬은 그대로 유지한 채 정렬된 행렬 반환\\\n",
        "`ndarray.sort()` : 원래 행렬 자체를 정렬한 형태로 변환하며 반환 값은 `None`\\\n",
        "\\\n",
        "기본적으로 오름차순 정렬\\\n",
        "내림차순: `np.sort()[::-1]`"
      ],
      "metadata": {
        "id": "UaSpPZtRnmvk"
      }
    },
    {
      "cell_type": "code",
      "source": [
        "original = np.array([3,1,9,6,4])\n",
        "print(original)\n",
        "# np.sort\n",
        "sort1 = np.sort(original)\n",
        "print(sort1)\n",
        "# ndarray.sort()\n",
        "sort2 = original.sort()\n",
        "print(sort2)\n",
        "print(original)"
      ],
      "metadata": {
        "colab": {
          "base_uri": "https://localhost:8080/"
        },
        "id": "M6NRpOigldCT",
        "outputId": "a62d2415-8da5-460c-b5b9-6ad2965aaab4"
      },
      "execution_count": 54,
      "outputs": [
        {
          "output_type": "stream",
          "name": "stdout",
          "text": [
            "[3 1 9 6 4]\n",
            "[1 3 4 6 9]\n",
            "None\n",
            "[1 3 4 6 9]\n"
          ]
        }
      ]
    },
    {
      "cell_type": "code",
      "source": [
        "# np.sort, 내림차순\n",
        "sort1 = np.sort(original)[::-1]\n",
        "print(sort1)"
      ],
      "metadata": {
        "colab": {
          "base_uri": "https://localhost:8080/"
        },
        "id": "23RQY5o_mXPD",
        "outputId": "6a51f0a2-efc4-4e55-b4b3-76e2d915ad33"
      },
      "execution_count": 57,
      "outputs": [
        {
          "output_type": "stream",
          "name": "stdout",
          "text": [
            "[9 6 4 3 1]\n"
          ]
        }
      ]
    },
    {
      "cell_type": "markdown",
      "source": [
        "2차원 이상의 경우 row or column wise 정렬\\\n",
        "`axis=0` sort each column, row-wise\\\n",
        "`axis=1` sort each row, column-wise"
      ],
      "metadata": {
        "id": "_MIBUA6Fm2dh"
      }
    },
    {
      "cell_type": "code",
      "source": [
        "array2d = np.array([[3,7,4,8],\n",
        "                   [2,1,9,12],\n",
        "                   [9,14,10,3],\n",
        "                   [5,13,6,11]])\n",
        "sort0 = np.sort(array2d, axis=0)\n",
        "sort1 = np.sort(array2d, axis=1)\n",
        "print(sort0) #each columns are sorted (row-wise sort)\n",
        "print(sort1) #each rows are sorted (column-wise sort)"
      ],
      "metadata": {
        "colab": {
          "base_uri": "https://localhost:8080/"
        },
        "id": "iX2hGtS8vAkU",
        "outputId": "624211c6-c731-4f7d-ac6c-18ecab3dd3f8"
      },
      "execution_count": 59,
      "outputs": [
        {
          "output_type": "stream",
          "name": "stdout",
          "text": [
            "[[ 2  1  4  3]\n",
            " [ 3  7  6  8]\n",
            " [ 5 13  9 11]\n",
            " [ 9 14 10 12]]\n",
            "[[ 3  4  7  8]\n",
            " [ 1  2  9 12]\n",
            " [ 3  9 10 14]\n",
            " [ 5  6 11 13]]\n"
          ]
        }
      ]
    },
    {
      "cell_type": "markdown",
      "source": [
        "### 정렬된 행렬의 인덱스를 반환하기\n",
        "\n",
        "활용 예시 (데이터추출에서 많이 이용됨):\\\n",
        "`name = ['John', 'Mike', 'Kate']`\\\n",
        "`score = [78, 95, 88]`\\\n",
        "시험 성적순으로 학생이름을 출력하고자 한다면 `np.argsort(score)`를 이용해 반환된 인덱스를 `name` array에 fancy index로 적용해 출력할 수 있음."
      ],
      "metadata": {
        "id": "DfSRiaOqnqgx"
      }
    },
    {
      "cell_type": "code",
      "source": [
        "original = np.array([8,6,9,5,7])\n",
        "sort_indices = np.argsort(original)\n",
        "print(sort_indices)\n",
        "# 내림차순\n",
        "sort_indices_desc = np.argsort(original)[::-1]\n",
        "print(sort_indices_desc)"
      ],
      "metadata": {
        "colab": {
          "base_uri": "https://localhost:8080/"
        },
        "id": "nM4GGvQmv7p8",
        "outputId": "a435fc87-16ff-464e-dd97-823e61f3cc9f"
      },
      "execution_count": 61,
      "outputs": [
        {
          "output_type": "stream",
          "name": "stdout",
          "text": [
            "[3 1 4 0 2]\n",
            "[2 0 4 1 3]\n"
          ]
        }
      ]
    },
    {
      "cell_type": "markdown",
      "source": [
        "## 선형대수 연산 - 행렬 내적과 전치 행렬 구하기\n",
        "\n",
        "1.   행렬 내적(곱) `np.dot(A,B)`\n",
        "2.   전치 행렬 `transpose(A)`\n",
        "\n"
      ],
      "metadata": {
        "id": "-9Aea-VJnvwI"
      }
    },
    {
      "cell_type": "code",
      "source": [
        "A = np.array([[1,2,3],\n",
        "              [4,5,6]])\n",
        "B = np.array([[7,8],\n",
        "              [9,10],\n",
        "              [11,12]])"
      ],
      "metadata": {
        "id": "p7WBPYHUJBj2"
      },
      "execution_count": 2,
      "outputs": []
    },
    {
      "cell_type": "markdown",
      "source": [
        "### 행렬 내적(곱) np.dot"
      ],
      "metadata": {
        "id": "rFXrZnX7n0yV"
      }
    },
    {
      "cell_type": "code",
      "source": [
        "dotproduct = np.dot(A,B)\n",
        "print(dotproduct)"
      ],
      "metadata": {
        "colab": {
          "base_uri": "https://localhost:8080/"
        },
        "id": "OBiWewN-JFxG",
        "outputId": "a40f76fd-139f-43d9-a7e8-06dd66a91711"
      },
      "execution_count": 3,
      "outputs": [
        {
          "output_type": "stream",
          "name": "stdout",
          "text": [
            "[[ 58  64]\n",
            " [139 154]]\n"
          ]
        }
      ]
    },
    {
      "cell_type": "markdown",
      "source": [
        "### 전치 행렬 transpose"
      ],
      "metadata": {
        "id": "nRKJLflbn2vA"
      }
    },
    {
      "cell_type": "code",
      "source": [
        "transposeA = np.transpose(A)\n",
        "print(transposeA)"
      ],
      "metadata": {
        "colab": {
          "base_uri": "https://localhost:8080/"
        },
        "id": "kY0WcUv5JLp0",
        "outputId": "2347eaec-2d6a-4593-875e-500093bc357e"
      },
      "execution_count": 4,
      "outputs": [
        {
          "output_type": "stream",
          "name": "stdout",
          "text": [
            "[[1 4]\n",
            " [2 5]\n",
            " [3 6]]\n"
          ]
        }
      ]
    }
  ]
}